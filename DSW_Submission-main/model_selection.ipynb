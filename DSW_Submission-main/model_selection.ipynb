{
  "nbformat": 4,
  "nbformat_minor": 0,
  "metadata": {
    "colab": {
      "provenance": []
    },
    "kernelspec": {
      "name": "python3",
      "display_name": "Python 3"
    },
    "language_info": {
      "name": "python"
    }
  },
  "cells": [
    {
      "cell_type": "code",
      "execution_count": 1,
      "metadata": {
        "id": "Fml7Yf04TnPH"
      },
      "outputs": [],
      "source": [
        "import pandas as pd\n",
        "import numpy as np"
      ]
    },
    {
      "cell_type": "code",
      "source": [
        "# here df we will be using which is already encoded during explaining EDA and feature engineering part , in EDA file\n",
        "df=pd.read_csv('train_df.csv')\n",
        "df.head(1)"
      ],
      "metadata": {
        "colab": {
          "base_uri": "https://localhost:8080/",
          "height": 81
        },
        "id": "8KYOX34OU5-G",
        "outputId": "526ab220-0001-4395-fec8-5c31279a5ef7"
      },
      "execution_count": 2,
      "outputs": [
        {
          "output_type": "execute_result",
          "data": {
            "text/plain": [
              "   item_no  category  main_promotion  color  stars  success_indicator\n",
              "0   739157         5               0      3    1.0                  0"
            ],
            "text/html": [
              "\n",
              "  <div id=\"df-8c7de8ab-c764-4d5f-b863-de7ccffacdf3\" class=\"colab-df-container\">\n",
              "    <div>\n",
              "<style scoped>\n",
              "    .dataframe tbody tr th:only-of-type {\n",
              "        vertical-align: middle;\n",
              "    }\n",
              "\n",
              "    .dataframe tbody tr th {\n",
              "        vertical-align: top;\n",
              "    }\n",
              "\n",
              "    .dataframe thead th {\n",
              "        text-align: right;\n",
              "    }\n",
              "</style>\n",
              "<table border=\"1\" class=\"dataframe\">\n",
              "  <thead>\n",
              "    <tr style=\"text-align: right;\">\n",
              "      <th></th>\n",
              "      <th>item_no</th>\n",
              "      <th>category</th>\n",
              "      <th>main_promotion</th>\n",
              "      <th>color</th>\n",
              "      <th>stars</th>\n",
              "      <th>success_indicator</th>\n",
              "    </tr>\n",
              "  </thead>\n",
              "  <tbody>\n",
              "    <tr>\n",
              "      <th>0</th>\n",
              "      <td>739157</td>\n",
              "      <td>5</td>\n",
              "      <td>0</td>\n",
              "      <td>3</td>\n",
              "      <td>1.0</td>\n",
              "      <td>0</td>\n",
              "    </tr>\n",
              "  </tbody>\n",
              "</table>\n",
              "</div>\n",
              "    <div class=\"colab-df-buttons\">\n",
              "\n",
              "  <div class=\"colab-df-container\">\n",
              "    <button class=\"colab-df-convert\" onclick=\"convertToInteractive('df-8c7de8ab-c764-4d5f-b863-de7ccffacdf3')\"\n",
              "            title=\"Convert this dataframe to an interactive table.\"\n",
              "            style=\"display:none;\">\n",
              "\n",
              "  <svg xmlns=\"http://www.w3.org/2000/svg\" height=\"24px\" viewBox=\"0 -960 960 960\">\n",
              "    <path d=\"M120-120v-720h720v720H120Zm60-500h600v-160H180v160Zm220 220h160v-160H400v160Zm0 220h160v-160H400v160ZM180-400h160v-160H180v160Zm440 0h160v-160H620v160ZM180-180h160v-160H180v160Zm440 0h160v-160H620v160Z\"/>\n",
              "  </svg>\n",
              "    </button>\n",
              "\n",
              "  <style>\n",
              "    .colab-df-container {\n",
              "      display:flex;\n",
              "      gap: 12px;\n",
              "    }\n",
              "\n",
              "    .colab-df-convert {\n",
              "      background-color: #E8F0FE;\n",
              "      border: none;\n",
              "      border-radius: 50%;\n",
              "      cursor: pointer;\n",
              "      display: none;\n",
              "      fill: #1967D2;\n",
              "      height: 32px;\n",
              "      padding: 0 0 0 0;\n",
              "      width: 32px;\n",
              "    }\n",
              "\n",
              "    .colab-df-convert:hover {\n",
              "      background-color: #E2EBFA;\n",
              "      box-shadow: 0px 1px 2px rgba(60, 64, 67, 0.3), 0px 1px 3px 1px rgba(60, 64, 67, 0.15);\n",
              "      fill: #174EA6;\n",
              "    }\n",
              "\n",
              "    .colab-df-buttons div {\n",
              "      margin-bottom: 4px;\n",
              "    }\n",
              "\n",
              "    [theme=dark] .colab-df-convert {\n",
              "      background-color: #3B4455;\n",
              "      fill: #D2E3FC;\n",
              "    }\n",
              "\n",
              "    [theme=dark] .colab-df-convert:hover {\n",
              "      background-color: #434B5C;\n",
              "      box-shadow: 0px 1px 3px 1px rgba(0, 0, 0, 0.15);\n",
              "      filter: drop-shadow(0px 1px 2px rgba(0, 0, 0, 0.3));\n",
              "      fill: #FFFFFF;\n",
              "    }\n",
              "  </style>\n",
              "\n",
              "    <script>\n",
              "      const buttonEl =\n",
              "        document.querySelector('#df-8c7de8ab-c764-4d5f-b863-de7ccffacdf3 button.colab-df-convert');\n",
              "      buttonEl.style.display =\n",
              "        google.colab.kernel.accessAllowed ? 'block' : 'none';\n",
              "\n",
              "      async function convertToInteractive(key) {\n",
              "        const element = document.querySelector('#df-8c7de8ab-c764-4d5f-b863-de7ccffacdf3');\n",
              "        const dataTable =\n",
              "          await google.colab.kernel.invokeFunction('convertToInteractive',\n",
              "                                                    [key], {});\n",
              "        if (!dataTable) return;\n",
              "\n",
              "        const docLinkHtml = 'Like what you see? Visit the ' +\n",
              "          '<a target=\"_blank\" href=https://colab.research.google.com/notebooks/data_table.ipynb>data table notebook</a>'\n",
              "          + ' to learn more about interactive tables.';\n",
              "        element.innerHTML = '';\n",
              "        dataTable['output_type'] = 'display_data';\n",
              "        await google.colab.output.renderOutput(dataTable, element);\n",
              "        const docLink = document.createElement('div');\n",
              "        docLink.innerHTML = docLinkHtml;\n",
              "        element.appendChild(docLink);\n",
              "      }\n",
              "    </script>\n",
              "  </div>\n",
              "\n",
              "    </div>\n",
              "  </div>\n"
            ]
          },
          "metadata": {},
          "execution_count": 2
        }
      ]
    },
    {
      "cell_type": "code",
      "source": [
        "from sklearn.model_selection import train_test_split, GridSearchCV\n",
        "from sklearn.pipeline import Pipeline\n",
        "from sklearn.preprocessing import StandardScaler  # as distance based algorithem is there\n",
        "from sklearn.linear_model import LogisticRegression\n",
        "from sklearn.tree import DecisionTreeClassifier\n",
        "from sklearn.ensemble import RandomForestClassifier\n",
        "from sklearn.metrics import accuracy_score, precision_score, recall_score, f1_score\n",
        "from sklearn.neural_network import MLPClassifier"
      ],
      "metadata": {
        "id": "cfUzHiCkU-TM"
      },
      "execution_count": 3,
      "outputs": []
    },
    {
      "cell_type": "code",
      "source": [
        "import warnings\n",
        "warnings.filterwarnings('ignore')  #to do away with unwanted or unuseful warnings which makes code lengthy"
      ],
      "metadata": {
        "id": "BsSl0rPTVB48"
      },
      "execution_count": 4,
      "outputs": []
    },
    {
      "cell_type": "markdown",
      "source": [
        "#Model_selection_Pipeline"
      ],
      "metadata": {
        "id": "Qx74Nm7FVGe1"
      }
    },
    {
      "cell_type": "code",
      "source": [
        "data = df\n",
        "x=df.drop('success_indicator',axis=1)\n",
        "y=df['success_indicator']\n",
        "\n",
        "\n",
        "x_train, x_test, y_train, y_test = train_test_split(x, y, test_size=0.2, random_state=77)\n",
        "\n",
        "pipeline = Pipeline([('scaler', StandardScaler()),('classifier', None) ])\n",
        "\n",
        "# Adding models to the param_grids list so to compare their accuracy with same data but different hyperparamere\n",
        "param_grids = [\n",
        "    {'classifier': [LogisticRegression()],\n",
        "     'classifier__C': [0.1, 1, 10]},\n",
        "    {'classifier': [RandomForestClassifier()],\n",
        "     'classifier__n_estimators': [100, 200, 300]},  #number of base model used to predict output\n",
        "    {'classifier': [MLPClassifier()],\n",
        "     'classifier__hidden_layer_sizes': [(100,), (50, 50), (25, 25, 25)],\n",
        "     'classifier__activation': ['relu', 'tanh'],  # these will be our activation function\n",
        "     'classifier__solver': ['adam']}              # adam will be optimiazer for ANN\n",
        "]\n",
        "\n",
        "best_model = None\n",
        "best_score = 0\n",
        "\n",
        "for entity in param_grids:\n",
        "    gs = GridSearchCV(pipeline, entity, cv=5, scoring='accuracy')  # cross validation in 5 , while measure of comparison\n",
        "    gs.fit(x_train, y_train)                                       # is acccuracy , we may use random search cv also if\n",
        "                                                                    # data is more\n",
        "\n",
        "    y_pred = gs.predict(x_test)\n",
        "    accuracy = accuracy_score(y_test, y_pred)\n",
        "    precision = precision_score(y_test, y_pred)\n",
        "    recall = recall_score(y_test, y_pred)\n",
        "    f1 = f1_score(y_test, y_pred)\n",
        "\n",
        "    print(\"Best Parameters:\", gs.best_params_)\n",
        "    print(\"Best Score:\", gs.best_score_)\n",
        "    print(\"Accuracy:\", accuracy)\n",
        "    print(\"Precision:\", precision)\n",
        "    print(\"Recall:\", recall)\n",
        "    print(\"F1 Score:\", f1)\n",
        "    print(\"***************************************************\")\n",
        "\n",
        "    if gs.best_score_ > best_score:\n",
        "        best_model = gs.best_estimator_\n",
        "        best_score = gs.best_score_\n",
        "\n",
        "print(\"Best Model:\", best_model)\n",
        "print(\"Best Score:\", best_score)"
      ],
      "metadata": {
        "colab": {
          "base_uri": "https://localhost:8080/"
        },
        "id": "ugL-RiPMVDx0",
        "outputId": "d6ff6925-6a35-4ded-85b5-1c867efe0c5f"
      },
      "execution_count": 5,
      "outputs": [
        {
          "output_type": "stream",
          "name": "stdout",
          "text": [
            "Best Parameters: {'classifier': LogisticRegression(C=1), 'classifier__C': 1}\n",
            "Best Score: 0.7753150758549568\n",
            "Accuracy: 0.7733847637415622\n",
            "Precision: 0.7406113537117904\n",
            "Recall: 0.8305582761998042\n",
            "F1 Score: 0.7830101569713759\n",
            "***************************************************\n",
            "Best Parameters: {'classifier': RandomForestClassifier(n_estimators=200), 'classifier__n_estimators': 200}\n",
            "Best Score: 0.8040008860033261\n",
            "Accuracy: 0.8032786885245902\n",
            "Precision: 0.7996089931573802\n",
            "Recall: 0.801175318315377\n",
            "F1 Score: 0.8003913894324852\n",
            "***************************************************\n",
            "Best Parameters: {'classifier': MLPClassifier(activation='tanh', hidden_layer_sizes=(50, 50)), 'classifier__activation': 'tanh', 'classifier__hidden_layer_sizes': (50, 50), 'classifier__solver': 'adam'}\n",
            "Best Score: 0.8279900796676761\n",
            "Accuracy: 0.8283510125361621\n",
            "Precision: 0.7878787878787878\n",
            "Recall: 0.89128305582762\n",
            "F1 Score: 0.8363970588235293\n",
            "***************************************************\n",
            "Best Model: Pipeline(steps=[('scaler', StandardScaler()),\n",
            "                ('classifier',\n",
            "                 MLPClassifier(activation='tanh',\n",
            "                               hidden_layer_sizes=(50, 50)))])\n",
            "Best Score: 0.8279900796676761\n"
          ]
        }
      ]
    },
    {
      "cell_type": "markdown",
      "source": [
        "#ANN will be the model which we will be choosing\n",
        "\n",
        "##Reasons\n",
        "\n",
        "Accuracy perspective : Among majority of the models which we have used for modelling the data we getting high accuracy on ANN.\n",
        "\n",
        "The MLP Classifier (Neural Network) outperformed both Logistic Regression and Random Forest classifiers in terms of accuracy, precision, recall, and F1 score.\n",
        "\n",
        "The MLP Classifier achieved the highest F1 score (0.8364) and recall (0.8913), indicating a good balance between precision and recall.\n",
        "\n",
        "Random Forest Classifier performed well but slightly lower than the MLP Classifier in terms of accuracy and F1 score.\n",
        "Logistic Regression Classifier had the lowest performance among the three models, with the lowest accuracy, precision, recall, and F1 score.\n",
        "\n",
        "Overall, the MLP Classifier with a tanh activation function and hidden layer sizes (50, 50) is recommended as the best model for the classification task.\n"
      ],
      "metadata": {
        "id": "HzMHGKh_V1cv"
      }
    }
  ]
}